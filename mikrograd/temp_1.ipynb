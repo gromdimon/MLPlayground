{
 "cells": [
  {
   "cell_type": "code",
   "execution_count": 1,
   "metadata": {
    "id": "Dgqjikjdr11S"
   },
   "outputs": [],
   "source": [
    "import math\n",
    "import numpy as np\n",
    "import matplotlib.pyplot as plt\n",
    "%matplotlib inline"
   ]
  },
  {
   "cell_type": "code",
   "execution_count": 2,
   "metadata": {
    "id": "yndcAs9ktu8n"
   },
   "outputs": [],
   "source": [
    "def f(x):\n",
    "    return 3*x**2 - 4*x +5"
   ]
  },
  {
   "cell_type": "code",
   "execution_count": 3,
   "metadata": {
    "colab": {
     "base_uri": "https://localhost:8080/"
    },
    "id": "nSq4KYnpt1CM",
    "outputId": "18101b3d-a2be-4db2-a6e1-209997801a79"
   },
   "outputs": [
    {
     "data": {
      "text/plain": [
       "20.0"
      ]
     },
     "execution_count": 3,
     "metadata": {},
     "output_type": "execute_result"
    }
   ],
   "source": [
    "f(3.0)"
   ]
  },
  {
   "cell_type": "code",
   "execution_count": 4,
   "metadata": {
    "colab": {
     "base_uri": "https://localhost:8080/",
     "height": 448
    },
    "id": "BBJ5qEozt17h",
    "outputId": "e236df59-5dbc-417d-a752-8fc470731891"
   },
   "outputs": [
    {
     "data": {
      "text/plain": [
       "[<matplotlib.lines.Line2D at 0x11cbd1280>]"
      ]
     },
     "execution_count": 4,
     "metadata": {},
     "output_type": "execute_result"
    },
    {
     "data": {
      "image/png": "[encoded data removed]",
      "text/plain": [
       "<Figure size 432x288 with 1 Axes>"
      ]
     },
     "metadata": {
      "needs_background": "light"
     },
     "output_type": "display_data"
    }
   ],
   "source": [
    "xs = np.arange(-5, 5, 0.25)\n",
    "ys = f(xs)\n",
    "plt.plot(xs, ys)"
   ]
  },
  {
   "cell_type": "code",
   "execution_count": 5,
   "metadata": {
    "colab": {
     "base_uri": "https://localhost:8080/"
    },
    "id": "8g0hhxZxt_jG",
    "outputId": "4ee555d9-10dc-4bf4-9ce9-a7d28fb0e1b7"
   },
   "outputs": [
    {
     "data": {
      "text/plain": [
       "14.00003000000538"
      ]
     },
     "execution_count": 5,
     "metadata": {},
     "output_type": "execute_result"
    }
   ],
   "source": [
    "#  Calculate derivative\n",
    "h = 0.00001\n",
    "x = 3.0\n",
    "(f(x+h) - f(x))/h"
   ]
  },
  {
   "cell_type": "code",
   "execution_count": 6,
   "metadata": {
    "colab": {
     "base_uri": "https://localhost:8080/"
    },
    "id": "N-yGUcWpu3cM",
    "outputId": "0d48ed15-522e-4719-ef97-c6f195b5b095"
   },
   "outputs": [
    {
     "name": "stdout",
     "output_type": "stream",
     "text": [
      "0.0002999999981767587\n",
      "4.0\n"
     ]
    }
   ],
   "source": [
    "# Where is derivative is 0?\n",
    "h = 0.0001\n",
    "x = 2/3\n",
    "print((f(x+h) - f(x))/h)\n",
    "\n",
    "# More complex\n",
    "a = 2.0\n",
    "b = -3.0\n",
    "c = 10.0\n",
    "d = a*b + c\n",
    "print(d)"
   ]
  },
  {
   "cell_type": "code",
   "execution_count": 7,
   "metadata": {
    "colab": {
     "base_uri": "https://localhost:8080/"
    },
    "id": "-me3-6NBvhIL",
    "outputId": "6e27bd22-3b85-425f-c268-20788a00b5db"
   },
   "outputs": [
    {
     "name": "stdout",
     "output_type": "stream",
     "text": [
      "d1: 4.0\n",
      "d2: 3.999699999999999\n",
      "slope: -3.000000000010772\n"
     ]
    }
   ],
   "source": [
    "h = 0.0001\n",
    "\n",
    "# inputs\n",
    "a = 2.0\n",
    "b = -3.0\n",
    "c = 10.0\n",
    "\n",
    "d1 = a*b + c\n",
    "a += h\n",
    "d2 = a*b + c\n",
    "\n",
    "print('d1:', d1)\n",
    "print('d2:', d2)\n",
    "print('slope:', (d2 - d1)/h)\n"
   ]
  },
  {
   "cell_type": "code",
   "execution_count": 107,
   "metadata": {
    "colab": {
     "base_uri": "https://localhost:8080/"
    },
    "id": "2L_xlUVrwZNP",
    "outputId": "2cf1e895-d904-4f7f-b269-a6a8d6567e03"
   },
   "outputs": [
    {
     "data": {
      "text/plain": [
       "Value(data=-8.0)"
      ]
     },
     "execution_count": 107,
     "metadata": {},
     "output_type": "execute_result"
    }
   ],
   "source": [
    "class Value:\n",
    "  \n",
    "  def __init__(self, data, _children=(), _op='', label=''):\n",
    "    self.data = data\n",
    "    self.grad = 0.0\n",
    "    self._backward = lambda: None\n",
    "    self._prev = set(_children)\n",
    "    self._op = _op\n",
    "    self.label = label\n",
    "\n",
    "  def __repr__(self):\n",
    "    return f\"Value(data={self.data})\"\n",
    "  \n",
    "  def __add__(self, other):\n",
    "    out = Value(self.data + other.data, (self, other), '+')\n",
    "    \n",
    "    def _backward():\n",
    "      self.grad += 1.0 * out.grad\n",
    "      other.grad += 1.0 * out.grad\n",
    "        \n",
    "    out._backward = _backward\n",
    "    return out\n",
    "\n",
    "  def __mul__(self, other):\n",
    "    out = Value(self.data * other.data, (self, other), '*')\n",
    "    \n",
    "    def _backward():\n",
    "      self.grad += other.data * out.grad\n",
    "      other.grad += self.data * out.grad\n",
    "\n",
    "    out._backward = _backward\n",
    "    return out\n",
    "  \n",
    "  def tanh(self):\n",
    "    x = self.data\n",
    "    t = (math.exp(2*x) - 1)/(math.exp(2*x) + 1)\n",
    "    out = Value(t, (self, ), 'tanh')\n",
    "    \n",
    "    def _backward():\n",
    "      self.grad += (1 - t**2) * out.grad\n",
    "    \n",
    "    out._backward = _backward\n",
    "    return out\n",
    "\n",
    "  def backward(self):\n",
    "    \n",
    "    topo = []\n",
    "    visited = set()\n",
    "    def build_topo(v):\n",
    "      if v not in visited:\n",
    "        visited.add(v)\n",
    "        for child in v._prev:\n",
    "          build_topo(child)\n",
    "        topo.append(v)\n",
    "    build_topo(self)\n",
    "    \n",
    "    self.grad = 1.0\n",
    "    for node in reversed(topo):\n",
    "        node._backward()\n",
    "\n",
    "\n",
    "a = Value(2.0, label='a')\n",
    "b = Value(-3.0, label='b')\n",
    "c = Value(10.0, label='c')\n",
    "e = a*b; e.label = 'e'\n",
    "d = e + c; d.label = 'd'  # (a.__mul__(b)).__add__(c)\n",
    "f = Value(-2.0, label='f')\n",
    "L = d*f; L.label = 'L'\n",
    "L"
   ]
  },
  {
   "cell_type": "code",
   "execution_count": 38,
   "metadata": {
    "colab": {
     "base_uri": "https://localhost:8080/"
    },
    "id": "r9jCazDkwhIz",
    "outputId": "d4b3c6f7-a479-4b95-a520-762a7fbb2aeb"
   },
   "outputs": [
    {
     "name": "stdout",
     "output_type": "stream",
     "text": [
      "Value(data=10.0)\n",
      "{Value(data=10.0), Value(data=-6.0)}\n",
      "+\n",
      "0.0\n"
     ]
    }
   ],
   "source": [
    "print(c)\n",
    "print(d._prev)\n",
    "print(d._op)\n",
    "print(d.grad)"
   ]
  },
  {
   "cell_type": "code",
   "execution_count": 48,
   "metadata": {
    "id": "GAfnd5lWxizt"
   },
   "outputs": [],
   "source": [
    "from graphviz import Digraph\n",
    "\n",
    "def trace(root):\n",
    "  \"\"\"Build a set of all nodes and edges in a graph\"\"\"\n",
    "  nodes, edges = set(), set()\n",
    "  def build(v):\n",
    "    if v not in nodes:\n",
    "      nodes.add(v)\n",
    "      for child in v._prev:\n",
    "        edges.add((child, v))\n",
    "        build(child)\n",
    "  build(root)\n",
    "  return nodes, edges\n",
    "\n",
    "def draw_dot(root):\n",
    "  dot = Digraph(format='svg', graph_attr={'rankdir':'LR'})   # LR = left to right\n",
    "\n",
    "  nodes, edges = trace(root)\n",
    "  for n in nodes:\n",
    "    uid = str(id(n))\n",
    "    # for any valye in the gra[h, create a rectangular ('record') node for it\n",
    "    dot.node(name = uid, label=\"{ %s | data %.4f | grad %.4f }\" % (n.label, n.data, n.grad), shape='record')\n",
    "    if n._op:\n",
    "      # if this value is a result of some operation, create an op node for it\n",
    "      dot.node(name = uid + n._op, label = n._op)\n",
    "      # and connect this node to it\n",
    "      dot.edge(uid + n._op, uid)\n",
    "\n",
    "  for n1, n2 in edges:\n",
    "    # connect n1 to the op node of n2\n",
    "    dot.edge(str(id(n1)), str(id(n2)) + n2._op)\n",
    "  \n",
    "  return dot"
   ]
  },
  {
   "cell_type": "code",
   "execution_count": 21,
   "metadata": {
    "colab": {
     "base_uri": "https://localhost:8080/",
     "height": 230
    },
    "id": "EJjcRyTDz_SJ",
    "outputId": "55c22724-d79f-4b96-bb6b-9da6f442834c"
   },
   "outputs": [
    {
     "data": {
      "image/svg+xml": [
       "<?xml version=\"1.0\" encoding=\"UTF-8\" standalone=\"no\"?>\n",
       "<!DOCTYPE svg PUBLIC \"-//W3C//DTD SVG 1.1//EN\"\n",
       " \"http://www.w3.org/Graphics/SVG/1.1/DTD/svg11.dtd\">\n",
       "<!-- Generated by graphviz version 8.0.5 (20230430.1635)\n",
       " -->\n",
       "<!-- Pages: 1 -->\n",
       "<svg width=\"1138pt\" height=\"154pt\"\n",
       " viewBox=\"0.00 0.00 1137.50 154.00\" xmlns=\"http://www.w3.org/2000/svg\" xmlns:xlink=\"http://www.w3.org/1999/xlink\">\n",
       "<g id=\"graph0\" class=\"graph\" transform=\"scale(1 1) rotate(0) translate(4 150)\">\n",
       "<polygon fill=\"white\" stroke=\"none\" points=\"-4,4 -4,-150 1133.5,-150 1133.5,4 -4,4\"/>\n",
       "<!-- 4793582688 -->\n",
       "<g id=\"node1\" class=\"node\">\n",
       "<title>4793582688</title>\n",
       "<polygon fill=\"none\" stroke=\"black\" points=\"319.88,-27.5 319.88,-63.5 505.12,-63.5 505.12,-27.5 319.88,-27.5\"/>\n",
       "<text text-anchor=\"middle\" x=\"329.75\" y=\"-40.7\" font-family=\"Times,serif\" font-size=\"14.00\"> </text>\n",
       "<polyline fill=\"none\" stroke=\"black\" points=\"339.62,-28 339.62,-63.5\"/>\n",
       "<text text-anchor=\"middle\" x=\"381.75\" y=\"-40.7\" font-family=\"Times,serif\" font-size=\"14.00\">data &#45;6.2624</text>\n",
       "<polyline fill=\"none\" stroke=\"black\" points=\"423.88,-28 423.88,-63.5\"/>\n",
       "<text text-anchor=\"middle\" x=\"464.5\" y=\"-40.7\" font-family=\"Times,serif\" font-size=\"14.00\">grad 0.0000</text>\n",
       "</g>\n",
       "<!-- 4793584752+ -->\n",
       "<g id=\"node4\" class=\"node\">\n",
       "<title>4793584752+</title>\n",
       "<ellipse fill=\"none\" stroke=\"black\" cx=\"569.25\" cy=\"-72.5\" rx=\"27\" ry=\"18\"/>\n",
       "<text text-anchor=\"middle\" x=\"569.25\" y=\"-67.45\" font-family=\"Times,serif\" font-size=\"14.00\">+</text>\n",
       "</g>\n",
       "<!-- 4793582688&#45;&gt;4793584752+ -->\n",
       "<g id=\"edge8\" class=\"edge\">\n",
       "<title>4793582688&#45;&gt;4793584752+</title>\n",
       "<path fill=\"none\" stroke=\"black\" d=\"M504.86,-61.44C514.4,-63.1 523.64,-64.72 531.99,-66.17\"/>\n",
       "<polygon fill=\"black\" stroke=\"black\" points=\"531.3,-69.78 541.75,-68.05 532.5,-62.88 531.3,-69.78\"/>\n",
       "</g>\n",
       "<!-- 4793582688* -->\n",
       "<g id=\"node2\" class=\"node\">\n",
       "<title>4793582688*</title>\n",
       "<ellipse fill=\"none\" stroke=\"black\" cx=\"255.75\" cy=\"-45.5\" rx=\"27\" ry=\"18\"/>\n",
       "<text text-anchor=\"middle\" x=\"255.75\" y=\"-40.45\" font-family=\"Times,serif\" font-size=\"14.00\">*</text>\n",
       "</g>\n",
       "<!-- 4793582688*&#45;&gt;4793582688 -->\n",
       "<g id=\"edge1\" class=\"edge\">\n",
       "<title>4793582688*&#45;&gt;4793582688</title>\n",
       "<path fill=\"none\" stroke=\"black\" d=\"M283,-45.5C290.71,-45.5 299.64,-45.5 309.13,-45.5\"/>\n",
       "<polygon fill=\"black\" stroke=\"black\" points=\"309.05,-49 319.05,-45.5 309.05,-42 309.05,-49\"/>\n",
       "</g>\n",
       "<!-- 4793584752 -->\n",
       "<g id=\"node3\" class=\"node\">\n",
       "<title>4793584752</title>\n",
       "<polygon fill=\"none\" stroke=\"black\" points=\"634.88,-54.5 634.88,-90.5 815.62,-90.5 815.62,-54.5 634.88,-54.5\"/>\n",
       "<text text-anchor=\"middle\" x=\"644.75\" y=\"-67.7\" font-family=\"Times,serif\" font-size=\"14.00\"> </text>\n",
       "<polyline fill=\"none\" stroke=\"black\" points=\"654.62,-55 654.62,-90.5\"/>\n",
       "<text text-anchor=\"middle\" x=\"694.5\" y=\"-67.7\" font-family=\"Times,serif\" font-size=\"14.00\">data 3.7176</text>\n",
       "<polyline fill=\"none\" stroke=\"black\" points=\"734.38,-55 734.38,-90.5\"/>\n",
       "<text text-anchor=\"middle\" x=\"775\" y=\"-67.7\" font-family=\"Times,serif\" font-size=\"14.00\">grad 0.0000</text>\n",
       "</g>\n",
       "<!-- 4793584320* -->\n",
       "<g id=\"node6\" class=\"node\">\n",
       "<title>4793584320*</title>\n",
       "<ellipse fill=\"none\" stroke=\"black\" cx=\"881.25\" cy=\"-99.5\" rx=\"27\" ry=\"18\"/>\n",
       "<text text-anchor=\"middle\" x=\"881.25\" y=\"-94.45\" font-family=\"Times,serif\" font-size=\"14.00\">*</text>\n",
       "</g>\n",
       "<!-- 4793584752&#45;&gt;4793584320* -->\n",
       "<g id=\"edge5\" class=\"edge\">\n",
       "<title>4793584752&#45;&gt;4793584320*</title>\n",
       "<path fill=\"none\" stroke=\"black\" d=\"M815.39,-88.13C825.49,-89.9 835.3,-91.62 844.12,-93.16\"/>\n",
       "<polygon fill=\"black\" stroke=\"black\" points=\"843.23,-96.74 853.69,-95.02 844.44,-89.84 843.23,-96.74\"/>\n",
       "</g>\n",
       "<!-- 4793584752+&#45;&gt;4793584752 -->\n",
       "<g id=\"edge2\" class=\"edge\">\n",
       "<title>4793584752+&#45;&gt;4793584752</title>\n",
       "<path fill=\"none\" stroke=\"black\" d=\"M596.72,-72.5C604.74,-72.5 614.07,-72.5 623.97,-72.5\"/>\n",
       "<polygon fill=\"black\" stroke=\"black\" points=\"623.9,-76 633.9,-72.5 623.9,-69 623.9,-76\"/>\n",
       "</g>\n",
       "<!-- 4793584320 -->\n",
       "<g id=\"node5\" class=\"node\">\n",
       "<title>4793584320</title>\n",
       "<polygon fill=\"none\" stroke=\"black\" points=\"944.25,-81.5 944.25,-117.5 1129.5,-117.5 1129.5,-81.5 944.25,-81.5\"/>\n",
       "<text text-anchor=\"middle\" x=\"954.12\" y=\"-94.7\" font-family=\"Times,serif\" font-size=\"14.00\"> </text>\n",
       "<polyline fill=\"none\" stroke=\"black\" points=\"964,-82 964,-117.5\"/>\n",
       "<text text-anchor=\"middle\" x=\"1006.12\" y=\"-94.7\" font-family=\"Times,serif\" font-size=\"14.00\">data &#45;7.2865</text>\n",
       "<polyline fill=\"none\" stroke=\"black\" points=\"1048.25,-82 1048.25,-117.5\"/>\n",
       "<text text-anchor=\"middle\" x=\"1088.88\" y=\"-94.7\" font-family=\"Times,serif\" font-size=\"14.00\">grad 0.0000</text>\n",
       "</g>\n",
       "<!-- 4793584320*&#45;&gt;4793584320 -->\n",
       "<g id=\"edge3\" class=\"edge\">\n",
       "<title>4793584320*&#45;&gt;4793584320</title>\n",
       "<path fill=\"none\" stroke=\"black\" d=\"M908.66,-99.5C916.06,-99.5 924.57,-99.5 933.62,-99.5\"/>\n",
       "<polygon fill=\"black\" stroke=\"black\" points=\"933.45,-103 943.45,-99.5 933.45,-96 933.45,-103\"/>\n",
       "</g>\n",
       "<!-- 4777119952 -->\n",
       "<g id=\"node7\" class=\"node\">\n",
       "<title>4777119952</title>\n",
       "<polygon fill=\"none\" stroke=\"black\" points=\"4.88,-55.5 4.88,-91.5 187.88,-91.5 187.88,-55.5 4.88,-55.5\"/>\n",
       "<text text-anchor=\"middle\" x=\"15.88\" y=\"-68.7\" font-family=\"Times,serif\" font-size=\"14.00\">a</text>\n",
       "<polyline fill=\"none\" stroke=\"black\" points=\"26.88,-56 26.88,-91.5\"/>\n",
       "<text text-anchor=\"middle\" x=\"66.75\" y=\"-68.7\" font-family=\"Times,serif\" font-size=\"14.00\">data 2.0600</text>\n",
       "<polyline fill=\"none\" stroke=\"black\" points=\"106.62,-56 106.62,-91.5\"/>\n",
       "<text text-anchor=\"middle\" x=\"147.25\" y=\"-68.7\" font-family=\"Times,serif\" font-size=\"14.00\">grad 6.0000</text>\n",
       "</g>\n",
       "<!-- 4777119952&#45;&gt;4793582688* -->\n",
       "<g id=\"edge7\" class=\"edge\">\n",
       "<title>4777119952&#45;&gt;4793582688*</title>\n",
       "<path fill=\"none\" stroke=\"black\" d=\"M187.55,-57.46C198.51,-55.51 209.17,-53.61 218.64,-51.92\"/>\n",
       "<polygon fill=\"black\" stroke=\"black\" points=\"218.94,-55.25 228.17,-50.05 217.71,-48.36 218.94,-55.25\"/>\n",
       "</g>\n",
       "<!-- 4777963280 -->\n",
       "<g id=\"node8\" class=\"node\">\n",
       "<title>4777963280</title>\n",
       "<polygon fill=\"none\" stroke=\"black\" points=\"318.75,-82.5 318.75,-118.5 506.25,-118.5 506.25,-82.5 318.75,-82.5\"/>\n",
       "<text text-anchor=\"middle\" x=\"329.75\" y=\"-95.7\" font-family=\"Times,serif\" font-size=\"14.00\">c</text>\n",
       "<polyline fill=\"none\" stroke=\"black\" points=\"340.75,-83 340.75,-118.5\"/>\n",
       "<text text-anchor=\"middle\" x=\"380.62\" y=\"-95.7\" font-family=\"Times,serif\" font-size=\"14.00\">data 9.9800</text>\n",
       "<polyline fill=\"none\" stroke=\"black\" points=\"420.5,-83 420.5,-118.5\"/>\n",
       "<text text-anchor=\"middle\" x=\"463.38\" y=\"-95.7\" font-family=\"Times,serif\" font-size=\"14.00\">grad &#45;2.0000</text>\n",
       "</g>\n",
       "<!-- 4777963280&#45;&gt;4793584752+ -->\n",
       "<g id=\"edge6\" class=\"edge\">\n",
       "<title>4777963280&#45;&gt;4793584752+</title>\n",
       "<path fill=\"none\" stroke=\"black\" d=\"M506.2,-83.73C515.3,-82.08 524.1,-80.49 532.08,-79.04\"/>\n",
       "<polygon fill=\"black\" stroke=\"black\" points=\"532.54,-82.34 541.76,-77.11 531.3,-75.45 532.54,-82.34\"/>\n",
       "</g>\n",
       "<!-- 4777984448 -->\n",
       "<g id=\"node9\" class=\"node\">\n",
       "<title>4777984448</title>\n",
       "<polygon fill=\"none\" stroke=\"black\" points=\"632.25,-109.5 632.25,-145.5 818.25,-145.5 818.25,-109.5 632.25,-109.5\"/>\n",
       "<text text-anchor=\"middle\" x=\"642.5\" y=\"-122.7\" font-family=\"Times,serif\" font-size=\"14.00\">f</text>\n",
       "<polyline fill=\"none\" stroke=\"black\" points=\"652.75,-110 652.75,-145.5\"/>\n",
       "<text text-anchor=\"middle\" x=\"694.88\" y=\"-122.7\" font-family=\"Times,serif\" font-size=\"14.00\">data &#45;1.9600</text>\n",
       "<polyline fill=\"none\" stroke=\"black\" points=\"737,-110 737,-145.5\"/>\n",
       "<text text-anchor=\"middle\" x=\"777.62\" y=\"-122.7\" font-family=\"Times,serif\" font-size=\"14.00\">grad 4.0000</text>\n",
       "</g>\n",
       "<!-- 4777984448&#45;&gt;4793584320* -->\n",
       "<g id=\"edge9\" class=\"edge\">\n",
       "<title>4777984448&#45;&gt;4793584320*</title>\n",
       "<path fill=\"none\" stroke=\"black\" d=\"M818.06,-110.81C827.16,-109.15 835.98,-107.55 843.98,-106.09\"/>\n",
       "<polygon fill=\"black\" stroke=\"black\" points=\"844.47,-109.38 853.68,-104.15 843.21,-102.49 844.47,-109.38\"/>\n",
       "</g>\n",
       "<!-- 4777514464 -->\n",
       "<g id=\"node10\" class=\"node\">\n",
       "<title>4777514464</title>\n",
       "<polygon fill=\"none\" stroke=\"black\" points=\"0,-0.5 0,-36.5 192.75,-36.5 192.75,-0.5 0,-0.5\"/>\n",
       "<text text-anchor=\"middle\" x=\"11.38\" y=\"-13.7\" font-family=\"Times,serif\" font-size=\"14.00\">b</text>\n",
       "<polyline fill=\"none\" stroke=\"black\" points=\"22.75,-1 22.75,-36.5\"/>\n",
       "<text text-anchor=\"middle\" x=\"64.88\" y=\"-13.7\" font-family=\"Times,serif\" font-size=\"14.00\">data &#45;3.0400</text>\n",
       "<polyline fill=\"none\" stroke=\"black\" points=\"107,-1 107,-36.5\"/>\n",
       "<text text-anchor=\"middle\" x=\"149.88\" y=\"-13.7\" font-family=\"Times,serif\" font-size=\"14.00\">grad &#45;4.0000</text>\n",
       "</g>\n",
       "<!-- 4777514464&#45;&gt;4793582688* -->\n",
       "<g id=\"edge4\" class=\"edge\">\n",
       "<title>4777514464&#45;&gt;4793582688*</title>\n",
       "<path fill=\"none\" stroke=\"black\" d=\"M192.55,-34.83C201.7,-36.4 210.54,-37.92 218.55,-39.29\"/>\n",
       "<polygon fill=\"black\" stroke=\"black\" points=\"217.8,-42.88 228.25,-41.12 218.98,-35.98 217.8,-42.88\"/>\n",
       "</g>\n",
       "</g>\n",
       "</svg>\n"
      ],
      "text/plain": [
       "<graphviz.graphs.Digraph at 0x11db26910>"
      ]
     },
     "execution_count": 21,
     "metadata": {},
     "output_type": "execute_result"
    }
   ],
   "source": [
    "draw_dot(L)"
   ]
  },
  {
   "cell_type": "markdown",
   "metadata": {},
   "source": [
    "L = d * f\n",
    "\n",
    "dL/dd =? f\n",
    "\n",
    "(f(x+h) - f(x)) / h\n",
    "\n",
    "((d+h)*f = d*f) / h"
   ]
  },
  {
   "cell_type": "code",
   "execution_count": 17,
   "metadata": {},
   "outputs": [],
   "source": [
    "L.grad = 1.0\n",
    "a.grad = 6.0\n",
    "b.grad = -4\n",
    "c.grad = -2\n",
    "e.grad = -2\n",
    "d.grad = -2\n",
    "f.grad = 4"
   ]
  },
  {
   "cell_type": "code",
   "execution_count": 22,
   "metadata": {},
   "outputs": [
    {
     "name": "stdout",
     "output_type": "stream",
     "text": [
      "-6.586368000000001\n"
     ]
    }
   ],
   "source": [
    "a.data += 0.01 * a.grad\n",
    "b.data += 0.01 * b.grad\n",
    "c.data += 0.01 * c.grad\n",
    "f.data += 0.01 * f.grad\n",
    "\n",
    "e = a * b\n",
    "d = e + c\n",
    "L = d * f\n",
    "\n",
    "print(L.data)"
   ]
  },
  {
   "cell_type": "code",
   "execution_count": 23,
   "metadata": {
    "id": "YgWQH-jl0BCw"
   },
   "outputs": [
    {
     "name": "stdout",
     "output_type": "stream",
     "text": [
      "-6.000000000000227\n"
     ]
    }
   ],
   "source": [
    "def lol():\n",
    "    \n",
    "    h = 0.001\n",
    "    \n",
    "    a = Value(2.0, label='a')\n",
    "    b = Value(-3.0, label='b')\n",
    "    c = Value(10.0, label='c')\n",
    "    e = a*b; e.label = 'e'\n",
    "    d = e + c; d.label = 'd'\n",
    "    f = Value(-2.0, label='f')\n",
    "    L = d*f; L.label = 'L'\n",
    "    L1 = L.data\n",
    "    \n",
    "    a = Value(2.0, label='a')\n",
    "    b = Value(-3.0, label='b')\n",
    "    b.data += h\n",
    "    c = Value(10.0, label='c')\n",
    "    e = a*b; e.label = 'e'\n",
    "    d = e + c; d.label = 'd'\n",
    "    d.data += h\n",
    "    f = Value(-2.0, label='f')\n",
    "    L = d*f; L.label = 'L'\n",
    "    L2 = L.data\n",
    "    \n",
    "    print((L2 - L1)/h)\n",
    "\n",
    "lol()"
   ]
  },
  {
   "cell_type": "code",
   "execution_count": 25,
   "metadata": {},
   "outputs": [
    {
     "data": {
      "image/png": "[encoded data removed]",
      "text/plain": [
       "<Figure size 432x288 with 1 Axes>"
      ]
     },
     "metadata": {
      "needs_background": "light"
     },
     "output_type": "display_data"
    }
   ],
   "source": [
    "plt.plot(np.arange(-5,5,0.2), np.tanh(np.arange(-5,5,0.2))); plt.grid();"
   ]
  },
  {
   "cell_type": "code",
   "execution_count": 108,
   "metadata": {},
   "outputs": [],
   "source": [
    "# inputs x1, x2\n",
    "x1 = Value(2.0, label='x1')\n",
    "x2 = Value(0.0, label='x2')\n",
    "# weights w1,w2\n",
    "w1 = Value(-3.0, label='w1')\n",
    "w2 = Value(1.0, label='w2')\n",
    "# bias of the neuron\n",
    "b = Value(6.8813735870195432, label='b')\n",
    "\n",
    "x1w1 = x1*w1; x1w1.label = 'x1w1';\n",
    "x2w2 = x2*w2; x2w2.label = 'x2w2';\n",
    "x1w1x2w2 = x1w1 + x2w2; x1w1x2w2.label = 'x1*w1 + x2*w2'\n",
    "n = x1w1x2w2 + b; n.label = 'n'\n",
    "o = n.tanh(); o.label = 'o';"
   ]
  },
  {
   "cell_type": "code",
   "execution_count": 111,
   "metadata": {},
   "outputs": [
    {
     "data": {
      "image/svg+xml": [
       "<?xml version=\"1.0\" encoding=\"UTF-8\" standalone=\"no\"?>\n",
       "<!DOCTYPE svg PUBLIC \"-//W3C//DTD SVG 1.1//EN\"\n",
       " \"http://www.w3.org/Graphics/SVG/1.1/DTD/svg11.dtd\">\n",
       "<!-- Generated by graphviz version 8.0.5 (20230430.1635)\n",
       " -->\n",
       "<!-- Pages: 1 -->\n",
       "<svg width=\"1560pt\" height=\"210pt\"\n",
       " viewBox=\"0.00 0.00 1559.75 210.00\" xmlns=\"http://www.w3.org/2000/svg\" xmlns:xlink=\"http://www.w3.org/1999/xlink\">\n",
       "<g id=\"graph0\" class=\"graph\" transform=\"scale(1 1) rotate(0) translate(4 206)\">\n",
       "<polygon fill=\"white\" stroke=\"none\" points=\"-4,4 -4,-206 1555.75,-206 1555.75,4 -4,4\"/>\n",
       "<!-- 4803287552 -->\n",
       "<g id=\"node1\" class=\"node\">\n",
       "<title>4803287552</title>\n",
       "<polygon fill=\"none\" stroke=\"black\" points=\"3.75,-165.5 3.75,-201.5 194.25,-201.5 194.25,-165.5 3.75,-165.5\"/>\n",
       "<text text-anchor=\"middle\" x=\"18.5\" y=\"-178.7\" font-family=\"Times,serif\" font-size=\"14.00\">x2</text>\n",
       "<polyline fill=\"none\" stroke=\"black\" points=\"33.25,-166 33.25,-201.5\"/>\n",
       "<text text-anchor=\"middle\" x=\"73.12\" y=\"-178.7\" font-family=\"Times,serif\" font-size=\"14.00\">data 0.0000</text>\n",
       "<polyline fill=\"none\" stroke=\"black\" points=\"113,-166 113,-201.5\"/>\n",
       "<text text-anchor=\"middle\" x=\"153.62\" y=\"-178.7\" font-family=\"Times,serif\" font-size=\"14.00\">grad 0.5000</text>\n",
       "</g>\n",
       "<!-- 4803287312* -->\n",
       "<g id=\"node7\" class=\"node\">\n",
       "<title>4803287312*</title>\n",
       "<ellipse fill=\"none\" stroke=\"black\" cx=\"261\" cy=\"-128.5\" rx=\"27\" ry=\"18\"/>\n",
       "<text text-anchor=\"middle\" x=\"261\" y=\"-123.45\" font-family=\"Times,serif\" font-size=\"14.00\">*</text>\n",
       "</g>\n",
       "<!-- 4803287552&#45;&gt;4803287312* -->\n",
       "<g id=\"edge7\" class=\"edge\">\n",
       "<title>4803287552&#45;&gt;4803287312*</title>\n",
       "<path fill=\"none\" stroke=\"black\" d=\"M170.28,-165.56C179.67,-162.75 189.12,-159.71 198,-156.5 208.31,-152.78 219.28,-148.08 229.1,-143.59\"/>\n",
       "<polygon fill=\"black\" stroke=\"black\" points=\"230.24,-146.46 237.82,-139.05 227.28,-140.11 230.24,-146.46\"/>\n",
       "</g>\n",
       "<!-- 4803287072 -->\n",
       "<g id=\"node2\" class=\"node\">\n",
       "<title>4803287072</title>\n",
       "<polygon fill=\"none\" stroke=\"black\" points=\"661.5,-82.5 661.5,-118.5 932.25,-118.5 932.25,-82.5 661.5,-82.5\"/>\n",
       "<text text-anchor=\"middle\" x=\"714.12\" y=\"-95.7\" font-family=\"Times,serif\" font-size=\"14.00\">x1*w1 + x2*w2</text>\n",
       "<polyline fill=\"none\" stroke=\"black\" points=\"766.75,-83 766.75,-118.5\"/>\n",
       "<text text-anchor=\"middle\" x=\"808.88\" y=\"-95.7\" font-family=\"Times,serif\" font-size=\"14.00\">data &#45;6.0000</text>\n",
       "<polyline fill=\"none\" stroke=\"black\" points=\"851,-83 851,-118.5\"/>\n",
       "<text text-anchor=\"middle\" x=\"891.62\" y=\"-95.7\" font-family=\"Times,serif\" font-size=\"14.00\">grad 0.5000</text>\n",
       "</g>\n",
       "<!-- 4803287408+ -->\n",
       "<g id=\"node11\" class=\"node\">\n",
       "<title>4803287408+</title>\n",
       "<ellipse fill=\"none\" stroke=\"black\" cx=\"995.25\" cy=\"-72.5\" rx=\"27\" ry=\"18\"/>\n",
       "<text text-anchor=\"middle\" x=\"995.25\" y=\"-67.45\" font-family=\"Times,serif\" font-size=\"14.00\">+</text>\n",
       "</g>\n",
       "<!-- 4803287072&#45;&gt;4803287408+ -->\n",
       "<g id=\"edge14\" class=\"edge\">\n",
       "<title>4803287072&#45;&gt;4803287408+</title>\n",
       "<path fill=\"none\" stroke=\"black\" d=\"M923.91,-82.53C936.06,-80.8 947.6,-79.15 957.68,-77.71\"/>\n",
       "<polygon fill=\"black\" stroke=\"black\" points=\"957.99,-81.06 967.4,-76.19 957.01,-74.13 957.99,-81.06\"/>\n",
       "</g>\n",
       "<!-- 4803287072+ -->\n",
       "<g id=\"node3\" class=\"node\">\n",
       "<title>4803287072+</title>\n",
       "<ellipse fill=\"none\" stroke=\"black\" cx=\"598.5\" cy=\"-100.5\" rx=\"27\" ry=\"18\"/>\n",
       "<text text-anchor=\"middle\" x=\"598.5\" y=\"-95.45\" font-family=\"Times,serif\" font-size=\"14.00\">+</text>\n",
       "</g>\n",
       "<!-- 4803287072+&#45;&gt;4803287072 -->\n",
       "<g id=\"edge1\" class=\"edge\">\n",
       "<title>4803287072+&#45;&gt;4803287072</title>\n",
       "<path fill=\"none\" stroke=\"black\" d=\"M625.98,-100.5C633.21,-100.5 641.57,-100.5 650.63,-100.5\"/>\n",
       "<polygon fill=\"black\" stroke=\"black\" points=\"650.57,-104 660.57,-100.5 650.57,-97 650.57,-104\"/>\n",
       "</g>\n",
       "<!-- 4803285104 -->\n",
       "<g id=\"node4\" class=\"node\">\n",
       "<title>4803285104</title>\n",
       "<polygon fill=\"none\" stroke=\"black\" points=\"2.25,-110.5 2.25,-146.5 195.75,-146.5 195.75,-110.5 2.25,-110.5\"/>\n",
       "<text text-anchor=\"middle\" x=\"18.5\" y=\"-123.7\" font-family=\"Times,serif\" font-size=\"14.00\">w2</text>\n",
       "<polyline fill=\"none\" stroke=\"black\" points=\"34.75,-111 34.75,-146.5\"/>\n",
       "<text text-anchor=\"middle\" x=\"74.62\" y=\"-123.7\" font-family=\"Times,serif\" font-size=\"14.00\">data 1.0000</text>\n",
       "<polyline fill=\"none\" stroke=\"black\" points=\"114.5,-111 114.5,-146.5\"/>\n",
       "<text text-anchor=\"middle\" x=\"155.12\" y=\"-123.7\" font-family=\"Times,serif\" font-size=\"14.00\">grad 0.0000</text>\n",
       "</g>\n",
       "<!-- 4803285104&#45;&gt;4803287312* -->\n",
       "<g id=\"edge12\" class=\"edge\">\n",
       "<title>4803285104&#45;&gt;4803287312*</title>\n",
       "<path fill=\"none\" stroke=\"black\" d=\"M195.38,-128.5C205.05,-128.5 214.4,-128.5 222.84,-128.5\"/>\n",
       "<polygon fill=\"black\" stroke=\"black\" points=\"222.75,-132 232.75,-128.5 222.75,-125 222.75,-132\"/>\n",
       "</g>\n",
       "<!-- 4803288848 -->\n",
       "<g id=\"node5\" class=\"node\">\n",
       "<title>4803288848</title>\n",
       "<polygon fill=\"none\" stroke=\"black\" points=\"1.5,-55.5 1.5,-91.5 196.5,-91.5 196.5,-55.5 1.5,-55.5\"/>\n",
       "<text text-anchor=\"middle\" x=\"16.25\" y=\"-68.7\" font-family=\"Times,serif\" font-size=\"14.00\">x1</text>\n",
       "<polyline fill=\"none\" stroke=\"black\" points=\"31,-56 31,-91.5\"/>\n",
       "<text text-anchor=\"middle\" x=\"70.88\" y=\"-68.7\" font-family=\"Times,serif\" font-size=\"14.00\">data 2.0000</text>\n",
       "<polyline fill=\"none\" stroke=\"black\" points=\"110.75,-56 110.75,-91.5\"/>\n",
       "<text text-anchor=\"middle\" x=\"153.62\" y=\"-68.7\" font-family=\"Times,serif\" font-size=\"14.00\">grad &#45;1.5000</text>\n",
       "</g>\n",
       "<!-- 4803288464* -->\n",
       "<g id=\"node13\" class=\"node\">\n",
       "<title>4803288464*</title>\n",
       "<ellipse fill=\"none\" stroke=\"black\" cx=\"261\" cy=\"-73.5\" rx=\"27\" ry=\"18\"/>\n",
       "<text text-anchor=\"middle\" x=\"261\" y=\"-68.45\" font-family=\"Times,serif\" font-size=\"14.00\">*</text>\n",
       "</g>\n",
       "<!-- 4803288848&#45;&gt;4803288464* -->\n",
       "<g id=\"edge11\" class=\"edge\">\n",
       "<title>4803288848&#45;&gt;4803288464*</title>\n",
       "<path fill=\"none\" stroke=\"black\" d=\"M196.3,-73.5C205.57,-73.5 214.53,-73.5 222.66,-73.5\"/>\n",
       "<polygon fill=\"black\" stroke=\"black\" points=\"222.55,-77 232.55,-73.5 222.55,-70 222.55,-77\"/>\n",
       "</g>\n",
       "<!-- 4803287312 -->\n",
       "<g id=\"node6\" class=\"node\">\n",
       "<title>4803287312</title>\n",
       "<polygon fill=\"none\" stroke=\"black\" points=\"326.25,-110.5 326.25,-146.5 533.25,-146.5 533.25,-110.5 326.25,-110.5\"/>\n",
       "<text text-anchor=\"middle\" x=\"349.25\" y=\"-123.7\" font-family=\"Times,serif\" font-size=\"14.00\">x2w2</text>\n",
       "<polyline fill=\"none\" stroke=\"black\" points=\"372.25,-111 372.25,-146.5\"/>\n",
       "<text text-anchor=\"middle\" x=\"412.12\" y=\"-123.7\" font-family=\"Times,serif\" font-size=\"14.00\">data 0.0000</text>\n",
       "<polyline fill=\"none\" stroke=\"black\" points=\"452,-111 452,-146.5\"/>\n",
       "<text text-anchor=\"middle\" x=\"492.62\" y=\"-123.7\" font-family=\"Times,serif\" font-size=\"14.00\">grad 0.5000</text>\n",
       "</g>\n",
       "<!-- 4803287312&#45;&gt;4803287072+ -->\n",
       "<g id=\"edge10\" class=\"edge\">\n",
       "<title>4803287312&#45;&gt;4803287072+</title>\n",
       "<path fill=\"none\" stroke=\"black\" d=\"M533.03,-111.33C543.06,-109.64 552.71,-108.02 561.34,-106.57\"/>\n",
       "<polygon fill=\"black\" stroke=\"black\" points=\"561.78,-109.88 571.07,-104.77 560.62,-102.98 561.78,-109.88\"/>\n",
       "</g>\n",
       "<!-- 4803287312*&#45;&gt;4803287312 -->\n",
       "<g id=\"edge2\" class=\"edge\">\n",
       "<title>4803287312*&#45;&gt;4803287312</title>\n",
       "<path fill=\"none\" stroke=\"black\" d=\"M288.42,-128.5C296.46,-128.5 305.86,-128.5 315.91,-128.5\"/>\n",
       "<polygon fill=\"black\" stroke=\"black\" points=\"315.6,-132 325.6,-128.5 315.6,-125 315.6,-132\"/>\n",
       "</g>\n",
       "<!-- 4803287360 -->\n",
       "<g id=\"node8\" class=\"node\">\n",
       "<title>4803287360</title>\n",
       "<polygon fill=\"none\" stroke=\"black\" points=\"1368,-54.5 1368,-90.5 1551.75,-90.5 1551.75,-54.5 1368,-54.5\"/>\n",
       "<text text-anchor=\"middle\" x=\"1379.38\" y=\"-67.7\" font-family=\"Times,serif\" font-size=\"14.00\">o</text>\n",
       "<polyline fill=\"none\" stroke=\"black\" points=\"1390.75,-55 1390.75,-90.5\"/>\n",
       "<text text-anchor=\"middle\" x=\"1430.62\" y=\"-67.7\" font-family=\"Times,serif\" font-size=\"14.00\">data 0.7071</text>\n",
       "<polyline fill=\"none\" stroke=\"black\" points=\"1470.5,-55 1470.5,-90.5\"/>\n",
       "<text text-anchor=\"middle\" x=\"1511.12\" y=\"-67.7\" font-family=\"Times,serif\" font-size=\"14.00\">grad 1.0000</text>\n",
       "</g>\n",
       "<!-- 4803287360tanh -->\n",
       "<g id=\"node9\" class=\"node\">\n",
       "<title>4803287360tanh</title>\n",
       "<ellipse fill=\"none\" stroke=\"black\" cx=\"1305\" cy=\"-72.5\" rx=\"27\" ry=\"18\"/>\n",
       "<text text-anchor=\"middle\" x=\"1305\" y=\"-67.45\" font-family=\"Times,serif\" font-size=\"14.00\">tanh</text>\n",
       "</g>\n",
       "<!-- 4803287360tanh&#45;&gt;4803287360 -->\n",
       "<g id=\"edge3\" class=\"edge\">\n",
       "<title>4803287360tanh&#45;&gt;4803287360</title>\n",
       "<path fill=\"none\" stroke=\"black\" d=\"M1332.28,-72.5C1339.7,-72.5 1348.26,-72.5 1357.35,-72.5\"/>\n",
       "<polygon fill=\"black\" stroke=\"black\" points=\"1357.22,-76 1367.22,-72.5 1357.22,-69 1357.22,-76\"/>\n",
       "</g>\n",
       "<!-- 4803287408 -->\n",
       "<g id=\"node10\" class=\"node\">\n",
       "<title>4803287408</title>\n",
       "<polygon fill=\"none\" stroke=\"black\" points=\"1058.25,-54.5 1058.25,-90.5 1242,-90.5 1242,-54.5 1058.25,-54.5\"/>\n",
       "<text text-anchor=\"middle\" x=\"1069.62\" y=\"-67.7\" font-family=\"Times,serif\" font-size=\"14.00\">n</text>\n",
       "<polyline fill=\"none\" stroke=\"black\" points=\"1081,-55 1081,-90.5\"/>\n",
       "<text text-anchor=\"middle\" x=\"1120.88\" y=\"-67.7\" font-family=\"Times,serif\" font-size=\"14.00\">data 0.8814</text>\n",
       "<polyline fill=\"none\" stroke=\"black\" points=\"1160.75,-55 1160.75,-90.5\"/>\n",
       "<text text-anchor=\"middle\" x=\"1201.38\" y=\"-67.7\" font-family=\"Times,serif\" font-size=\"14.00\">grad 0.5000</text>\n",
       "</g>\n",
       "<!-- 4803287408&#45;&gt;4803287360tanh -->\n",
       "<g id=\"edge8\" class=\"edge\">\n",
       "<title>4803287408&#45;&gt;4803287360tanh</title>\n",
       "<path fill=\"none\" stroke=\"black\" d=\"M1241.82,-72.5C1250.55,-72.5 1259.01,-72.5 1266.75,-72.5\"/>\n",
       "<polygon fill=\"black\" stroke=\"black\" points=\"1266.5,-76 1276.5,-72.5 1266.5,-69 1266.5,-76\"/>\n",
       "</g>\n",
       "<!-- 4803287408+&#45;&gt;4803287408 -->\n",
       "<g id=\"edge4\" class=\"edge\">\n",
       "<title>4803287408+&#45;&gt;4803287408</title>\n",
       "<path fill=\"none\" stroke=\"black\" d=\"M1022.53,-72.5C1029.95,-72.5 1038.51,-72.5 1047.6,-72.5\"/>\n",
       "<polygon fill=\"black\" stroke=\"black\" points=\"1047.47,-76 1057.47,-72.5 1047.47,-69 1047.47,-76\"/>\n",
       "</g>\n",
       "<!-- 4803288464 -->\n",
       "<g id=\"node12\" class=\"node\">\n",
       "<title>4803288464</title>\n",
       "<polygon fill=\"none\" stroke=\"black\" points=\"324,-55.5 324,-91.5 535.5,-91.5 535.5,-55.5 324,-55.5\"/>\n",
       "<text text-anchor=\"middle\" x=\"347\" y=\"-68.7\" font-family=\"Times,serif\" font-size=\"14.00\">x1w1</text>\n",
       "<polyline fill=\"none\" stroke=\"black\" points=\"370,-56 370,-91.5\"/>\n",
       "<text text-anchor=\"middle\" x=\"412.12\" y=\"-68.7\" font-family=\"Times,serif\" font-size=\"14.00\">data &#45;6.0000</text>\n",
       "<polyline fill=\"none\" stroke=\"black\" points=\"454.25,-56 454.25,-91.5\"/>\n",
       "<text text-anchor=\"middle\" x=\"494.88\" y=\"-68.7\" font-family=\"Times,serif\" font-size=\"14.00\">grad 0.5000</text>\n",
       "</g>\n",
       "<!-- 4803288464&#45;&gt;4803287072+ -->\n",
       "<g id=\"edge13\" class=\"edge\">\n",
       "<title>4803288464&#45;&gt;4803287072+</title>\n",
       "<path fill=\"none\" stroke=\"black\" d=\"M535.41,-90.45C544.57,-91.93 553.36,-93.35 561.31,-94.64\"/>\n",
       "<polygon fill=\"black\" stroke=\"black\" points=\"560.49,-98.21 570.92,-96.36 561.61,-91.3 560.49,-98.21\"/>\n",
       "</g>\n",
       "<!-- 4803288464*&#45;&gt;4803288464 -->\n",
       "<g id=\"edge5\" class=\"edge\">\n",
       "<title>4803288464*&#45;&gt;4803288464</title>\n",
       "<path fill=\"none\" stroke=\"black\" d=\"M288.42,-73.5C295.75,-73.5 304.2,-73.5 313.25,-73.5\"/>\n",
       "<polygon fill=\"black\" stroke=\"black\" points=\"313.11,-77 323.11,-73.5 313.11,-70 313.11,-77\"/>\n",
       "</g>\n",
       "<!-- 4803286448 -->\n",
       "<g id=\"node14\" class=\"node\">\n",
       "<title>4803286448</title>\n",
       "<polygon fill=\"none\" stroke=\"black\" points=\"0,-0.5 0,-36.5 198,-36.5 198,-0.5 0,-0.5\"/>\n",
       "<text text-anchor=\"middle\" x=\"16.25\" y=\"-13.7\" font-family=\"Times,serif\" font-size=\"14.00\">w1</text>\n",
       "<polyline fill=\"none\" stroke=\"black\" points=\"32.5,-1 32.5,-36.5\"/>\n",
       "<text text-anchor=\"middle\" x=\"74.62\" y=\"-13.7\" font-family=\"Times,serif\" font-size=\"14.00\">data &#45;3.0000</text>\n",
       "<polyline fill=\"none\" stroke=\"black\" points=\"116.75,-1 116.75,-36.5\"/>\n",
       "<text text-anchor=\"middle\" x=\"157.38\" y=\"-13.7\" font-family=\"Times,serif\" font-size=\"14.00\">grad 1.0000</text>\n",
       "</g>\n",
       "<!-- 4803286448&#45;&gt;4803288464* -->\n",
       "<g id=\"edge9\" class=\"edge\">\n",
       "<title>4803286448&#45;&gt;4803288464*</title>\n",
       "<path fill=\"none\" stroke=\"black\" d=\"M167.33,-36.46C177.67,-39.59 188.17,-42.97 198,-46.5 208.06,-50.11 218.81,-54.57 228.49,-58.82\"/>\n",
       "<polygon fill=\"black\" stroke=\"black\" points=\"226.92,-62.4 237.48,-63.29 229.78,-56.01 226.92,-62.4\"/>\n",
       "</g>\n",
       "<!-- 4803286496 -->\n",
       "<g id=\"node15\" class=\"node\">\n",
       "<title>4803286496</title>\n",
       "<polygon fill=\"none\" stroke=\"black\" points=\"705,-27.5 705,-63.5 888.75,-63.5 888.75,-27.5 705,-27.5\"/>\n",
       "<text text-anchor=\"middle\" x=\"716.38\" y=\"-40.7\" font-family=\"Times,serif\" font-size=\"14.00\">b</text>\n",
       "<polyline fill=\"none\" stroke=\"black\" points=\"727.75,-28 727.75,-63.5\"/>\n",
       "<text text-anchor=\"middle\" x=\"767.62\" y=\"-40.7\" font-family=\"Times,serif\" font-size=\"14.00\">data 6.8814</text>\n",
       "<polyline fill=\"none\" stroke=\"black\" points=\"807.5,-28 807.5,-63.5\"/>\n",
       "<text text-anchor=\"middle\" x=\"848.12\" y=\"-40.7\" font-family=\"Times,serif\" font-size=\"14.00\">grad 0.5000</text>\n",
       "</g>\n",
       "<!-- 4803286496&#45;&gt;4803287408+ -->\n",
       "<g id=\"edge6\" class=\"edge\">\n",
       "<title>4803286496&#45;&gt;4803287408+</title>\n",
       "<path fill=\"none\" stroke=\"black\" d=\"M888.59,-57.97C912.95,-61.32 937.93,-64.76 957.48,-67.44\"/>\n",
       "<polygon fill=\"black\" stroke=\"black\" points=\"956.94,-71.04 967.32,-68.93 957.89,-64.11 956.94,-71.04\"/>\n",
       "</g>\n",
       "</g>\n",
       "</svg>\n"
      ],
      "text/plain": [
       "<graphviz.graphs.Digraph at 0x11e4cc430>"
      ]
     },
     "execution_count": 111,
     "metadata": {},
     "output_type": "execute_result"
    }
   ],
   "source": [
    "draw_dot(o)"
   ]
  },
  {
   "cell_type": "code",
   "execution_count": 110,
   "metadata": {},
   "outputs": [],
   "source": [
    "o.backward()"
   ]
  },
  {
   "cell_type": "code",
   "execution_count": 105,
   "metadata": {},
   "outputs": [],
   "source": [
    "o.grad = 1.0\n",
    "\n",
    "topo = []\n",
    "visited = set()\n",
    "def build_topo(v):\n",
    "  if v not in visited:\n",
    "    visited.add(v)\n",
    "    for child in v._prev:\n",
    "      build_topo(child)\n",
    "    topo.append(v)\n",
    "build_topo(o)\n",
    "\n",
    "for node in reversed(topo):\n",
    "    node._backward()"
   ]
  },
  {
   "cell_type": "code",
   "execution_count": 104,
   "metadata": {},
   "outputs": [
    {
     "data": {
      "text/plain": [
       "[Value(data=6.881373587019543),\n",
       " Value(data=1.0),\n",
       " Value(data=0.0),\n",
       " Value(data=0.0),\n",
       " Value(data=2.0),\n",
       " Value(data=-3.0),\n",
       " Value(data=-6.0),\n",
       " Value(data=-6.0),\n",
       " Value(data=0.8813735870195432),\n",
       " Value(data=0.7071067811865476)]"
      ]
     },
     "execution_count": 104,
     "metadata": {},
     "output_type": "execute_result"
    }
   ],
   "source": [
    "topo = []\n",
    "visited = set()\n",
    "def build_topo(v):\n",
    "  if v not in visited:\n",
    "    visited.add(v)\n",
    "    for child in v._prev:\n",
    "      build_topo(child)\n",
    "    topo.append(v)\n",
    "build_topo(o)\n",
    "topo"
   ]
  },
  {
   "cell_type": "code",
   "execution_count": 91,
   "metadata": {},
   "outputs": [],
   "source": [
    "o.grad = 1.0\n",
    "# n.grad = 0.5\n",
    "# x1w1x2w2.grad = 0.5\n",
    "# b.grad = 0.5\n",
    "# x1w1.grad = 0.5\n",
    "# x2w2.grad = 0.5\n",
    "# x2.grad = w2.data * x2w2.grad\n",
    "# w2.grad = x2.data * x2w2.grad\n",
    "# x1.grad = w1.data * x1w1.grad\n",
    "# w1.grad = x1.data * x1w1.grad"
   ]
  },
  {
   "cell_type": "code",
   "execution_count": 96,
   "metadata": {},
   "outputs": [],
   "source": [
    "# o._backward()\n",
    "# n._backward()\n",
    "# b._backward()\n",
    "# x1w1x2w2._backward()\n",
    "# x1w1._backward()\n",
    "# x2w2._backward()"
   ]
  },
  {
   "cell_type": "code",
   "execution_count": 62,
   "metadata": {},
   "outputs": [
    {
     "data": {
      "text/plain": [
       "0.4999999999999999"
      ]
     },
     "execution_count": 62,
     "metadata": {},
     "output_type": "execute_result"
    }
   ],
   "source": [
    "1 - o.data**2"
   ]
  },
  {
   "cell_type": "code",
   "execution_count": null,
   "metadata": {},
   "outputs": [],
   "source": [
    "# o = tanh(n)\n",
    "# do/dn = 1 - tanh(n)**2 == 1 - o**2"
   ]
  },
  {
   "cell_type": "code",
   "execution_count": 112,
   "metadata": {},
   "outputs": [
    {
     "data": {
      "image/svg+xml": [
       "<?xml version=\"1.0\" encoding=\"UTF-8\" standalone=\"no\"?>\n",
       "<!DOCTYPE svg PUBLIC \"-//W3C//DTD SVG 1.1//EN\"\n",
       " \"http://www.w3.org/Graphics/SVG/1.1/DTD/svg11.dtd\">\n",
       "<!-- Generated by graphviz version 8.0.5 (20230430.1635)\n",
       " -->\n",
       "<!-- Pages: 1 -->\n",
       "<svg width=\"501pt\" height=\"45pt\"\n",
       " viewBox=\"0.00 0.00 500.75 45.00\" xmlns=\"http://www.w3.org/2000/svg\" xmlns:xlink=\"http://www.w3.org/1999/xlink\">\n",
       "<g id=\"graph0\" class=\"graph\" transform=\"scale(1 1) rotate(0) translate(4 41)\">\n",
       "<polygon fill=\"white\" stroke=\"none\" points=\"-4,4 -4,-41 496.75,-41 496.75,4 -4,4\"/>\n",
       "<!-- 4803286784 -->\n",
       "<g id=\"node1\" class=\"node\">\n",
       "<title>4803286784</title>\n",
       "<polygon fill=\"none\" stroke=\"black\" points=\"0,-0.5 0,-36.5 183,-36.5 183,-0.5 0,-0.5\"/>\n",
       "<text text-anchor=\"middle\" x=\"11\" y=\"-13.7\" font-family=\"Times,serif\" font-size=\"14.00\">a</text>\n",
       "<polyline fill=\"none\" stroke=\"black\" points=\"22,-1 22,-36.5\"/>\n",
       "<text text-anchor=\"middle\" x=\"61.88\" y=\"-13.7\" font-family=\"Times,serif\" font-size=\"14.00\">data 3.0000</text>\n",
       "<polyline fill=\"none\" stroke=\"black\" points=\"101.75,-1 101.75,-36.5\"/>\n",
       "<text text-anchor=\"middle\" x=\"142.38\" y=\"-13.7\" font-family=\"Times,serif\" font-size=\"14.00\">grad 2.0000</text>\n",
       "</g>\n",
       "<!-- 4803286880+ -->\n",
       "<g id=\"node3\" class=\"node\">\n",
       "<title>4803286880+</title>\n",
       "<ellipse fill=\"none\" stroke=\"black\" cx=\"246\" cy=\"-18.5\" rx=\"27\" ry=\"18\"/>\n",
       "<text text-anchor=\"middle\" x=\"246\" y=\"-13.45\" font-family=\"Times,serif\" font-size=\"14.00\">+</text>\n",
       "</g>\n",
       "<!-- 4803286784&#45;&gt;4803286880+ -->\n",
       "<g id=\"edge2\" class=\"edge\">\n",
       "<title>4803286784&#45;&gt;4803286880+</title>\n",
       "<path fill=\"none\" stroke=\"black\" d=\"M182.97,-18.5C191.58,-18.5 199.93,-18.5 207.57,-18.5\"/>\n",
       "<polygon fill=\"black\" stroke=\"black\" points=\"207.57,-22 217.57,-18.5 207.57,-15 207.57,-22\"/>\n",
       "</g>\n",
       "<!-- 4803286880 -->\n",
       "<g id=\"node2\" class=\"node\">\n",
       "<title>4803286880</title>\n",
       "<polygon fill=\"none\" stroke=\"black\" points=\"309,-0.5 309,-36.5 492.75,-36.5 492.75,-0.5 309,-0.5\"/>\n",
       "<text text-anchor=\"middle\" x=\"320.38\" y=\"-13.7\" font-family=\"Times,serif\" font-size=\"14.00\">b</text>\n",
       "<polyline fill=\"none\" stroke=\"black\" points=\"331.75,-1 331.75,-36.5\"/>\n",
       "<text text-anchor=\"middle\" x=\"371.62\" y=\"-13.7\" font-family=\"Times,serif\" font-size=\"14.00\">data 6.0000</text>\n",
       "<polyline fill=\"none\" stroke=\"black\" points=\"411.5,-1 411.5,-36.5\"/>\n",
       "<text text-anchor=\"middle\" x=\"452.12\" y=\"-13.7\" font-family=\"Times,serif\" font-size=\"14.00\">grad 1.0000</text>\n",
       "</g>\n",
       "<!-- 4803286880+&#45;&gt;4803286880 -->\n",
       "<g id=\"edge1\" class=\"edge\">\n",
       "<title>4803286880+&#45;&gt;4803286880</title>\n",
       "<path fill=\"none\" stroke=\"black\" d=\"M273.28,-18.5C280.7,-18.5 289.26,-18.5 298.35,-18.5\"/>\n",
       "<polygon fill=\"black\" stroke=\"black\" points=\"298.22,-22 308.22,-18.5 298.22,-15 298.22,-22\"/>\n",
       "</g>\n",
       "</g>\n",
       "</svg>\n"
      ],
      "text/plain": [
       "<graphviz.graphs.Digraph at 0x11e4c52e0>"
      ]
     },
     "execution_count": 112,
     "metadata": {},
     "output_type": "execute_result"
    }
   ],
   "source": [
    "a = Value(3.0, label='a')\n",
    "b = a + a; b.label='b'\n",
    "b.backward()\n",
    "draw_dot(b)"
   ]
  },
  {
   "cell_type": "code",
   "execution_count": null,
   "metadata": {},
   "outputs": [],
   "source": []
  }
 ],
 "metadata": {
  "colab": {
   "provenance": []
  },
  "kernelspec": {
   "display_name": "Python 3 (ipykernel)",
   "language": "python",
   "name": "python3"
  },
  "language_info": {
   "codemirror_mode": {
    "name": "ipython",
    "version": 3
   },
   "file_extension": ".py",
   "mimetype": "text/x-python",
   "name": "python",
   "nbconvert_exporter": "python",
   "pygments_lexer": "ipython3",
   "version": "3.8.17"
  }
 },
 "nbformat": 4,
 "nbformat_minor": 1
}
